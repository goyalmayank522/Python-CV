{
 "cells": [
  {
   "cell_type": "code",
   "execution_count": 7,
   "metadata": {},
   "outputs": [],
   "source": [
    "import numpy as np\n",
    "import matplotlib.pyplot as plt\n",
    "%matplotlib inline\n",
    "import cv2"
   ]
  },
  {
   "cell_type": "code",
   "execution_count": 10,
   "metadata": {},
   "outputs": [],
   "source": [
    "cap=cv2.VideoCapture(0)\n",
    "width=int(cap.get(cv2.CAP_PROP_FRAME_WIDTH))\n",
    "height=int(cap.get(cv2.CAP_PROP_FRAME_HEIGHT))\n",
    "out=cv2.VideoWriter('Output1.mp4',cv2.VideoWriter_fourcc(*'XVID'),20,(width,height))\n",
    "while cap.isOpened():\n",
    "    ret, frame=cap.read()\n",
    "    if not ret:\n",
    "        break\n",
    "    \n",
    "    med_val=np.median(frame)\n",
    "    lower = int(max(0,0.7*med_val))\n",
    "    upper = int(min(255,1.3*med_val))\n",
    "    blurred_frame=cv2.blur(frame,ksize=(7,7))\n",
    "    edges=cv2.Canny(image=blurred_frame,threshold1=lower,threshold2=upper) \n",
    "    out.write(edges)\n",
    "    cv2.imshow('frame',edges)\n",
    "    if cv2.waitKey(1) & 0xFF==ord('q'):\n",
    "        break\n",
    "cap.release()\n",
    "cv2.destroyAllWindows()"
   ]
  },
  {
   "cell_type": "code",
   "execution_count": null,
   "metadata": {},
   "outputs": [],
   "source": []
  }
 ],
 "metadata": {
  "kernelspec": {
   "display_name": "Python 3",
   "language": "python",
   "name": "python3"
  },
  "language_info": {
   "codemirror_mode": {
    "name": "ipython",
    "version": 3
   },
   "file_extension": ".py",
   "mimetype": "text/x-python",
   "name": "python",
   "nbconvert_exporter": "python",
   "pygments_lexer": "ipython3",
   "version": "3.7.3"
  }
 },
 "nbformat": 4,
 "nbformat_minor": 2
}
