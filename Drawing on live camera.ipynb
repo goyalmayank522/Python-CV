{
 "cells": [
  {
   "cell_type": "markdown",
   "metadata": {},
   "source": [
    "# Drawing on Camera\n"
   ]
  },
  {
   "cell_type": "markdown",
   "metadata": {},
   "source": [
    "### Drawing Rectangle on live Camera"
   ]
  },
  {
   "cell_type": "code",
   "execution_count": 11,
   "metadata": {},
   "outputs": [],
   "source": [
    "import cv2\n",
    "\n",
    "#callback function rectangle\n",
    "def draw_rectangle(event,x,y,flags,param):\n",
    "    global pt1,pt2,tleft_click,bright_click\n",
    "    \n",
    "    #reset the rectangle  (it checks if the rect there)\n",
    "    if event==cv2.EVENT_LBUTTONDOWN:\n",
    "        if tleft_click and bright_click:\n",
    "            pt1=(0,0)\n",
    "            pt2=(0,0)\n",
    "            tleft_click=False\n",
    "            bright_click=False\n",
    "        \n",
    "        if tleft_click==False:\n",
    "            pt1=(x,y)\n",
    "            tleft_click=True\n",
    "        \n",
    "        elif bright_click==False:\n",
    "            pt2=(x,y)\n",
    "            bright_click=True\n",
    "    \n",
    "\n",
    "#global variable\n",
    "pt1=(0,0)\n",
    "pt2=(0,0)\n",
    "tleft_click=False\n",
    "bright_click=False\n",
    "\n",
    "#connect to callback\n",
    "cap=cv2.VideoCapture(0)\n",
    "cv2.namedWindow('test')\n",
    "cv2.setMouseCallback('test',draw_rectangle)\n",
    "\n",
    "while True:\n",
    "    ret,frame=cap.read()\n",
    "    \n",
    "    #drawing on frame on based off the global variables\n",
    "    if tleft_click:\n",
    "        cv2.circle(frame,center=pt1,radius=5,color=(255,0,0),thickness=-1)\n",
    "    if tleft_click and bright_click:\n",
    "        cv2.rectangle(frame,pt1,pt2,(255,0,0),3)\n",
    "    \n",
    "    cv2.imshow('test',frame)\n",
    "    \n",
    "    if cv2.waitKey(1) & 0xFF== ord('q'):\n",
    "        break\n",
    "        \n",
    "cap.release()\n",
    "cv2.destroyAllWindows() "
   ]
  },
  {
   "cell_type": "markdown",
   "metadata": {},
   "source": [
    "### Drawing Circle on live Camera"
   ]
  },
  {
   "cell_type": "code",
   "execution_count": 2,
   "metadata": {},
   "outputs": [],
   "source": [
    "import cv2\n",
    "\n",
    "#callback function rectangle\n",
    "def draw_circle(event,x,y,flags,param):\n",
    "    global pt1,tleft_click\n",
    "    \n",
    "    #reset the rectangle  (it checks if the rect there)\n",
    "    if event==cv2.EVENT_LBUTTONDOWN:\n",
    "        pt1=(x,y)\n",
    "        tleft_click=True\n",
    "\n",
    "#global variable\n",
    "pt1=(0,0)\n",
    "tleft_click=False\n",
    "\n",
    "#connect to callback\n",
    "cap=cv2.VideoCapture(0)\n",
    "cv2.namedWindow('test')\n",
    "cv2.setMouseCallback('test',draw_circle)\n",
    "\n",
    "while True:\n",
    "    ret,frame=cap.read()\n",
    "    \n",
    "    #drawing on frame on based off the global variables\n",
    "    if tleft_click:\n",
    "        cv2.circle(frame,center=pt1,radius=30,color=(255,0,0),thickness=5)\n",
    "    \n",
    "    cv2.imshow('test',frame)\n",
    "    \n",
    "    if cv2.waitKey(1) & 0xFF== ord('q'):\n",
    "        break\n",
    "        \n",
    "cap.release()\n",
    "cv2.destroyAllWindows() "
   ]
  }
 ],
 "metadata": {
  "kernelspec": {
   "display_name": "Python 3",
   "language": "python",
   "name": "python3"
  },
  "language_info": {
   "codemirror_mode": {
    "name": "ipython",
    "version": 3
   },
   "file_extension": ".py",
   "mimetype": "text/x-python",
   "name": "python",
   "nbconvert_exporter": "python",
   "pygments_lexer": "ipython3",
   "version": "3.7.3"
  }
 },
 "nbformat": 4,
 "nbformat_minor": 2
}
